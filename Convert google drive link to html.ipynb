{
 "cells": [
  {
   "cell_type": "code",
   "execution_count": 1,
   "metadata": {},
   "outputs": [
    {
     "name": "stdout",
     "output_type": "stream",
     "text": [
      "所有HTML img 标签已写入到 img_tags.txt 文件中。\n"
     ]
    }
   ],
   "source": [
    "drive_links = []\n",
    "with open(r'C:\\Users\\ronny\\Desktop\\project 1 diabetes\\State level cost burden and breakdown\\google drive link about pie chart.txt', 'r') as file: \n",
    "    for line in file:\n",
    "        link = line.strip()\n",
    "        drive_links.append(link)\n",
    "\n",
    "# 定义一个函数，将Google Drive共享链接转换为直接链接\n",
    "def convert_to_direct_link(drive_link):\n",
    "    file_id = drive_link.split('/d/')[1].split('/view')[0]\n",
    "    return f\"https://drive.google.com/uc?export=view&id={file_id}\"\n",
    "\n",
    "# 定义一个函数，创建HTML img 标签\n",
    "def create_img_tag(direct_link, width=500):\n",
    "    return f'<img src=\"{direct_link}\" alt=\"Pie Chart\" width=\"{width}\">\\n'\n",
    "\n",
    "\n",
    "# 打开一个新的文本文件进行写入\n",
    "with open('img_tags.txt', 'w') as file:\n",
    "    # 遍历链接列表，转换并写入文件\n",
    "    for link in drive_links:\n",
    "        direct_link = convert_to_direct_link(link)\n",
    "        img_tag = create_img_tag(direct_link)\n",
    "        file.write(img_tag)\n",
    "\n",
    "print(\"所有HTML img 标签已写入到 img_tags.txt 文件中。\")\n",
    "\n",
    "\n",
    "\n",
    "\n"
   ]
  }
 ],
 "metadata": {
  "kernelspec": {
   "display_name": "base",
   "language": "python",
   "name": "python3"
  },
  "language_info": {
   "codemirror_mode": {
    "name": "ipython",
    "version": 3
   },
   "file_extension": ".py",
   "mimetype": "text/x-python",
   "name": "python",
   "nbconvert_exporter": "python",
   "pygments_lexer": "ipython3",
   "version": "3.9.13"
  }
 },
 "nbformat": 4,
 "nbformat_minor": 2
}
